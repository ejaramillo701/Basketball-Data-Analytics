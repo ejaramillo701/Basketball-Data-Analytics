{
 "cells": [
  {
   "cell_type": "markdown",
   "metadata": {},
   "source": [
    "# Homecourt Advantage Series Simulator"
   ]
  },
  {
   "cell_type": "code",
   "execution_count": 55,
   "metadata": {},
   "outputs": [],
   "source": [
    "import numpy as np"
   ]
  },
  {
   "cell_type": "markdown",
   "metadata": {},
   "source": [
    "## Simulator Functions"
   ]
  },
   {
   "cell_type": "markdown",
   "metadata": {},
   "source": [
    "The question I wanted to answer was whether a home team had better odds of winning a playoff series under the 2-3-3 or 2-2-1-1-1 formats under the assumption that we know their win probability at home and on the road, and that the games are independent (don't take into account injuries, travel, etc.) I answer this quesiton through simulation."
   ]
  },
  {
   "cell_type": "code",
   "execution_count": 56,
   "metadata": {},
   "outputs": [],
   "source": [
    "def sim_game(probs,loc):\n",
    "    \"\"\"\n",
    "    probs = {'h': P(team 1 wins at home), 'a': P(team 1 wins away)}\n",
    "    loc = home 'h', or away 'a'\n",
    "    returns 0 if team 1 loses in the sim, 1 if team 1 wins the sim\n",
    "    \"\"\"\n",
    "    return np.random.choice([0,1],1,p=[1-probs[loc],probs[loc]])"
   ]
  },
  {
   "cell_type": "code",
   "execution_count": 57,
   "metadata": {},
   "outputs": [],
   "source": [
    "def sim_series(home_win,away_win,form):\n",
    "    \"\"\"\n",
    "    home_win = P(team 1 wins at home)\n",
    "    away_win = P(team 1 wins away)\n",
    "    form = 0 --> (2-3-2) or 1 --> (2-2-1-1-1)\n",
    "    returns: 1 if team 1 wins the series, 0 otherwise\n",
    "    \"\"\"\n",
    "    probs = {'h':home_win,'a':away_win}\n",
    "    \n",
    "    if form == 0:\n",
    "        games = ['h','h','a','a','a','h','h']\n",
    "    elif form == 1:\n",
    "        games = ['h','h','a','a','h','a','h']\n",
    "    \n",
    "    series_score = []\n",
    "    i = 0\n",
    "    \n",
    "    while series_score.count(1)<4 and series_score.count(0)<4:\n",
    "        series_score.append(sim_game(probs,games[i]))\n",
    "        i += 1\n",
    "        \n",
    "    if series_score.count(1) ==4:\n",
    "        return 1\n",
    "    else:\n",
    "        return 0"
   ]
  },
  {
   "cell_type": "markdown",
   "metadata": {},
   "source": [
    "With these functions we can simulate each series as Bernouilli trial with unknown $p$. To estimate this $p$ we can take the mean of $n$ simulations for large $n$. The following function does just that."
   ]
  },
  {
   "cell_type": "code",
   "execution_count": 58,
   "metadata": {},
   "outputs": [],
   "source": [
    "def sim_n_series(home_win,away_win,form,n = 100):\n",
    "    \"\"\"\n",
    "    home_win = P(team 1 wins at home)\n",
    "    away_win = P(team 1 wins away)\n",
    "    form = 0 --> (2-3-2) or 1 --> (2-2-1-1-1)\n",
    "    n = number of simulations\n",
    "    returns: percentage of sims won by team 1\n",
    "    \"\"\"\n",
    "    win_count = []\n",
    "    for i in range(n):\n",
    "        win_count.append(sim_series(home_win,away_win,form))\n",
    "    return np.mean(win_count)"
   ]
  },
  {
   "cell_type": "markdown",
   "metadata": {},
   "source": [
    "## Analysis"
   ]
  },
  {
   "cell_type": "markdown",
   "metadata": {},
   "source": [
    "To esimate $p$ we compute the percent of series won in 1000 simulations of the 2-3-2 format and the 2-2-1-1-1 format. This is a good predictor of the true probability of winning the series. "
   ]
  },
  {
   "cell_type": "code",
   "execution_count": 59,
   "metadata": {},
   "outputs": [
    {
     "data": {
      "text/plain": [
       "0.65200000000000002"
      ]
     },
     "execution_count": 59,
     "metadata": {},
     "output_type": "execute_result"
    }
   ],
   "source": [
    "sim_n_series(0.7,0.4,0,1000)"
   ]
  },
  {
   "cell_type": "code",
   "execution_count": 60,
   "metadata": {},
   "outputs": [
    {
     "data": {
      "text/plain": [
       "0.64200000000000002"
      ]
     },
     "execution_count": 60,
     "metadata": {},
     "output_type": "execute_result"
    }
   ],
   "source": [
    "sim_n_series(0.7,0.4,1,1000)"
   ]
  },
  {
   "cell_type": "markdown",
   "metadata": {},
   "source": [
    "We see that these values are pretty close to each other. After some thought it seems likely that the true probability of winning the series is the same for either format. To verify this we can take advantage of the central limit theorem. If the two formats truly had the same $p$ value we would expect the distributions of these  percents (which are means) to approach the same normal curve after many simulations. Thus we take 10,000 simulations of size 100 and plot their distributions. If they look the same we can be prety confident that the true probabilities are the same.\n",
    "\n",
    "This process takes a few minutes to run so we will also make a helper function to save our results so we don't need to re-simulate everytime we run this notebook."
   ]
  },
  {
   "cell_type": "code",
   "execution_count": 68,
   "metadata": {},
   "outputs": [],
   "source": [
    "def list_to_csv(lst,file_name):\n",
    "    with open(file_name, \"w\") as output:\n",
    "        writer = csv.writer(output, lineterminator='\\n')\n",
    "        writer.writerow(['values'])  \n",
    "        for val in lst:\n",
    "            writer.writerow([val])  "
   ]
  },
  {
   "cell_type": "code",
   "execution_count": 83,
   "metadata": {},
   "outputs": [
    {
     "name": "stdout",
     "output_type": "stream",
     "text": [
      "Using cached version\n"
     ]
    }
   ],
   "source": [
    "import pandas as pd\n",
    "try:\n",
    "    sims1_df = pd.read_csv('sims1.csv')\n",
    "    sims2_df = pd.read_csv('sims2.csv')\n",
    "    print('Using cached version')\n",
    "    sims1 = sims1_df.iloc[:]\n",
    "    sims2 = sims2_df.iloc[:]\n",
    "except FileNotFoundError as e:\n",
    "    print('Simulating...')\n",
    "    sims1 = [sim_n_series(0.7,0.4,0,100) for i in range(10000)]\n",
    "    sims2 = [sim_n_series(0.7,0.4,1,100) for i in range(10000)]\n",
    "    list_to_csv(sims1,'sims1.csv')\n",
    "    list_to_csv(sims2,'sims2.csv')\n",
    "    print('Done!')"
   ]
  },
  {
   "cell_type": "code",
   "execution_count": 79,
   "metadata": {},
   "outputs": [
    {
     "data": {
      "text/plain": [
       "<matplotlib.legend.Legend at 0x1a1cdd9978>"
      ]
     },
     "execution_count": 79,
     "metadata": {},
     "output_type": "execute_result"
    },
    {
     "data": {
      "image/png": "[encoded data removed]",
      "text/plain": [
       "<matplotlib.figure.Figure at 0x1a1dc30080>"
      ]
     },
     "metadata": {},
     "output_type": "display_data"
    }
   ],
   "source": [
    "import matplotlib.pyplot as plt\n",
    "import seaborn as sns\n",
    "\n",
    "bins = np.linspace(0.45,0.85,50)\n",
    "\n",
    "sns.set(rc={'figure.figsize':(10,5)})\n",
    "\n",
    "ax = sns.distplot(sims1,label='2-3-2',bins=bins)\n",
    "sns.distplot(sims2,label='2-2-1-1-1',color='Green',bins=bins)\n",
    "plt.title(\"Proportion of series won in 10,000 simulations of size 100\",fontsize=16)\n",
    "plt.xlabel('Proportion of series won',fontsize=14)\n",
    "plt.ylabel('Percent per unit',fontsize=14)\n",
    "plt.legend()"
   ]
  },
  {
   "cell_type": "code",
   "execution_count": 71,
   "metadata": {},
   "outputs": [
    {
     "name": "stdout",
     "output_type": "stream",
     "text": [
      "0.661428 0.660378\n"
     ]
    }
   ],
   "source": [
    "print(np.mean(sims1),np.mean(sims2))"
   ]
  },
  {
   "cell_type": "markdown",
   "metadata": {},
   "source": [
    "Based on the plot above we can be confident that the two distributions are the same and the true $p$ is approximated by the mean of either distribution, which is approximately 66%."
   ]
  },
  {
   "cell_type": "markdown",
   "metadata": {},
   "source": [
    "## Modification: Win in $\\leq$ 5 Games"
   ]
  },
  {
   "cell_type": "markdown",
   "metadata": {},
   "source": [
    "We are also asked whether the question changes when Team 1 wants to win in 5 games or fewer. Thus we ask ourselves what is the probability that Team 1 wins the series in 5 or fewer games when the series format is 2-3-2 versus 2-2-1-1-1. We can compute this in the same way as before by making some small modifications to the \"sim_series\" and \"sim_n_series\" functions."
   ]
  },
  {
   "cell_type": "code",
   "execution_count": 72,
   "metadata": {},
   "outputs": [],
   "source": [
    "def sim_series_5(home_win,away_win,form):\n",
    "    \"\"\"\n",
    "    home_win = P(team 1 wins at home)\n",
    "    away_win = P(team 1 wins away)\n",
    "    form = 0 --> (2-3-2) or 1 --> (2-2-1-1-1)\n",
    "    returns: 1 if team 1 wins the series, 0 otherwise\n",
    "    \"\"\"\n",
    "    probs = {'h':home_win,'a':away_win}\n",
    "    \n",
    "    if form == 0:\n",
    "        games = ['h','h','a','a','a','h','h']\n",
    "    elif form == 1:\n",
    "        games = ['h','h','a','a','h','a','h']\n",
    "    \n",
    "    series_score = []\n",
    "    i = 0\n",
    "    \n",
    "    #Modify this while condition, to make sure total games <=  5\n",
    "    while series_score.count(1)<4 and series_score.count(0)<4 and i<5:\n",
    "        series_score.append(sim_game(probs,games[i]))\n",
    "        i += 1\n",
    "        \n",
    "    if series_score.count(1) ==4:\n",
    "        return 1\n",
    "    else:\n",
    "        return 0"
   ]
  },
  {
   "cell_type": "code",
   "execution_count": 73,
   "metadata": {},
   "outputs": [],
   "source": [
    "def sim_n_series_5(home_win,away_win,form,n = 100):\n",
    "    \"\"\"\n",
    "    home_win = P(team 1 wins at home)\n",
    "    away_win = P(team 1 wins away)\n",
    "    form = 0 --> (2-3-2) or 1 --> (2-2-1-1-1)\n",
    "    n = number of simulations\n",
    "    returns: percentage of sims won by team 1\n",
    "    \"\"\"\n",
    "    win_count = []\n",
    "    for i in range(n):\n",
    "        #Call sim_series_5 instead of sim_series\n",
    "        win_count.append(sim_series_5(home_win,away_win,form))\n",
    "    return np.mean(win_count)"
   ]
  },
  {
   "cell_type": "code",
   "execution_count": 74,
   "metadata": {},
   "outputs": [
    {
     "data": {
      "text/plain": [
       "0.185"
      ]
     },
     "execution_count": 74,
     "metadata": {},
     "output_type": "execute_result"
    }
   ],
   "source": [
    "sim_n_series_5(0.7,0.4,0,1000)"
   ]
  },
  {
   "cell_type": "code",
   "execution_count": 76,
   "metadata": {},
   "outputs": [
    {
     "data": {
      "text/plain": [
       "0.28399999999999997"
      ]
     },
     "execution_count": 76,
     "metadata": {},
     "output_type": "execute_result"
    }
   ],
   "source": [
    "sim_n_series_5(0.7,0.4,1,1000)"
   ]
  },
  {
   "cell_type": "markdown",
   "metadata": {},
   "source": [
    "We notice a much more pronounced difference in the winning % here than when we did not care about the number of games. As before let's simulate lots of size 100 simulations and plot the distributions to see if this might be due to chance. As before we try to used a cached simulation to avoid recomputing."
   ]
  },
  {
   "cell_type": "code",
   "execution_count": 82,
   "metadata": {},
   "outputs": [
    {
     "name": "stdout",
     "output_type": "stream",
     "text": [
      "Using cached version\n"
     ]
    }
   ],
   "source": [
    "import pandas as pd\n",
    "try:\n",
    "    sims3_df = pd.read_csv('sims3.csv')\n",
    "    sims4_df = pd.read_csv('sims4.csv')\n",
    "    print('Using cached version')\n",
    "    sims3 = sims3_df.iloc[:]\n",
    "    sims4 = sims4_df.iloc[:]\n",
    "except FileNotFoundError as e:\n",
    "    print('Simulating...')\n",
    "    sims3 = [sim_n_series_5(0.7,0.4,0,100) for i in range(10000)]\n",
    "    sims4 = [sim_n_series_5(0.7,0.4,1,100) for i in range(10000)]\n",
    "    list_to_csv(sims3,'sims3.csv')\n",
    "    list_to_csv(sims4,'sims4.csv')\n",
    "    print('Done!')"
   ]
  },
  {
   "cell_type": "code",
   "execution_count": 80,
   "metadata": {},
   "outputs": [
    {
     "data": {
      "text/plain": [
       "<matplotlib.legend.Legend at 0x1a1de7d898>"
      ]
     },
     "execution_count": 80,
     "metadata": {},
     "output_type": "execute_result"
    },
    {
     "data": {
      "image/png": "[encoded data removed]",
      "text/plain": [
       "<matplotlib.figure.Figure at 0x1a1dc30470>"
      ]
     },
     "metadata": {},
     "output_type": "display_data"
    }
   ],
   "source": [
    "import matplotlib.pyplot as plt\n",
    "import seaborn as sns\n",
    "\n",
    "bins = np.linspace(0,0.5,50)\n",
    "\n",
    "sns.set(rc={'figure.figsize':(10,5)})\n",
    "\n",
    "ax = sns.distplot(sims3,label='2-3-2',bins=bins)\n",
    "sns.distplot(sims4,label='2-2-1-1-1',color='Green',bins=bins)\n",
    "plt.title(\"Proportion of series won ($\\leq 5$ games) in 10,000 simulations of size 100\",fontsize=16)\n",
    "plt.xlabel('Proportion of series won',fontsize=14)\n",
    "plt.ylabel('Percent per unit',fontsize=14)\n",
    "plt.legend()"
   ]
  },
  {
   "cell_type": "code",
   "execution_count": 81,
   "metadata": {},
   "outputs": [
    {
     "name": "stdout",
     "output_type": "stream",
     "text": [
      "0.199191 0.290637\n"
     ]
    }
   ],
   "source": [
    "print(np.mean(sims3),np.mean(sims4))"
   ]
  }
 ],
 "metadata": {
  "kernelspec": {
   "display_name": "Python 3",
   "language": "python",
   "name": "python3"
  },
  "language_info": {
   "codemirror_mode": {
    "name": "ipython",
    "version": 3
   },
   "file_extension": ".py",
   "mimetype": "text/x-python",
   "name": "python",
   "nbconvert_exporter": "python",
   "pygments_lexer": "ipython3",
   "version": "3.6.4"
  }
 },
 "nbformat": 4,
 "nbformat_minor": 2
}
