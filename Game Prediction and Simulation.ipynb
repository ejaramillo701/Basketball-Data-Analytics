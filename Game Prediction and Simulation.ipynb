{
 "cells": [
  {
   "cell_type": "markdown",
   "metadata": {},
   "source": [
    "# Predicting and Simulating NBA Games using Linear Regression"
   ]
  },
  {
   "cell_type": "code",
   "execution_count": 327,
   "metadata": {},
   "outputs": [],
   "source": [
    "import csv\n",
    "import numpy as np\n",
    "import pandas as pd\n",
    "import matplotlib.pyplot as plt\n",
    "import seaborn as sns\n",
    "import sklearn"
   ]
  },
  {
   "cell_type": "markdown",
   "metadata": {},
   "source": [
    "Loading and cleaning the data from the csv file created in the last notebook."
   ]
  },
  {
   "cell_type": "code",
   "execution_count": 328,
   "metadata": {},
   "outputs": [
    {
     "data": {
      "text/html": [
       "<div>\n",
       "<style scoped>\n",
       "    .dataframe tbody tr th:only-of-type {\n",
       "        vertical-align: middle;\n",
       "    }\n",
       "\n",
       "    .dataframe tbody tr th {\n",
       "        vertical-align: top;\n",
       "    }\n",
       "\n",
       "    .dataframe thead th {\n",
       "        text-align: right;\n",
       "    }\n",
       "</style>\n",
       "<table border=\"1\" class=\"dataframe\">\n",
       "  <thead>\n",
       "    <tr style=\"text-align: right;\">\n",
       "      <th></th>\n",
       "      <th>Unnamed: 0</th>\n",
       "      <th>game_id</th>\n",
       "      <th>date</th>\n",
       "      <th>home team</th>\n",
       "      <th>home pts</th>\n",
       "      <th>away team</th>\n",
       "      <th>away pts</th>\n",
       "      <th>winner</th>\n",
       "      <th>away team 41 game win%</th>\n",
       "      <th>away team 8 game win%</th>\n",
       "      <th>home team 41 game win%</th>\n",
       "      <th>home team 8 game win%</th>\n",
       "    </tr>\n",
       "  </thead>\n",
       "  <tbody>\n",
       "    <tr>\n",
       "      <th>0</th>\n",
       "      <td>0</td>\n",
       "      <td>0</td>\n",
       "      <td>2016-10-25</td>\n",
       "      <td>CLE</td>\n",
       "      <td>117.0</td>\n",
       "      <td>NYK</td>\n",
       "      <td>88.0</td>\n",
       "      <td>CLE</td>\n",
       "      <td>NaN</td>\n",
       "      <td>NaN</td>\n",
       "      <td>NaN</td>\n",
       "      <td>NaN</td>\n",
       "    </tr>\n",
       "    <tr>\n",
       "      <th>1</th>\n",
       "      <td>1</td>\n",
       "      <td>1</td>\n",
       "      <td>2016-10-25</td>\n",
       "      <td>GSW</td>\n",
       "      <td>100.0</td>\n",
       "      <td>SAS</td>\n",
       "      <td>129.0</td>\n",
       "      <td>SAS</td>\n",
       "      <td>NaN</td>\n",
       "      <td>NaN</td>\n",
       "      <td>NaN</td>\n",
       "      <td>NaN</td>\n",
       "    </tr>\n",
       "    <tr>\n",
       "      <th>2</th>\n",
       "      <td>2</td>\n",
       "      <td>2</td>\n",
       "      <td>2016-10-25</td>\n",
       "      <td>POR</td>\n",
       "      <td>113.0</td>\n",
       "      <td>UTA</td>\n",
       "      <td>104.0</td>\n",
       "      <td>POR</td>\n",
       "      <td>NaN</td>\n",
       "      <td>NaN</td>\n",
       "      <td>NaN</td>\n",
       "      <td>NaN</td>\n",
       "    </tr>\n",
       "  </tbody>\n",
       "</table>\n",
       "</div>"
      ],
      "text/plain": [
       "   Unnamed: 0  game_id        date home team  home pts away team  away pts  \\\n",
       "0           0        0  2016-10-25       CLE     117.0       NYK      88.0   \n",
       "1           1        1  2016-10-25       GSW     100.0       SAS     129.0   \n",
       "2           2        2  2016-10-25       POR     113.0       UTA     104.0   \n",
       "\n",
       "  winner  away team 41 game win%  away team 8 game win%  \\\n",
       "0    CLE                     NaN                    NaN   \n",
       "1    SAS                     NaN                    NaN   \n",
       "2    POR                     NaN                    NaN   \n",
       "\n",
       "   home team 41 game win%  home team 8 game win%  \n",
       "0                     NaN                    NaN  \n",
       "1                     NaN                    NaN  \n",
       "2                     NaN                    NaN  "
      ]
     },
     "execution_count": 328,
     "metadata": {},
     "output_type": "execute_result"
    }
   ],
   "source": [
    "scores = pd.read_csv('game_scores.csv')\n",
    "scores.head(3)"
   ]
  },
  {
   "cell_type": "code",
   "execution_count": 190,
   "metadata": {},
   "outputs": [
    {
     "data": {
      "text/html": [
       "<div>\n",
       "<style scoped>\n",
       "    .dataframe tbody tr th:only-of-type {\n",
       "        vertical-align: middle;\n",
       "    }\n",
       "\n",
       "    .dataframe tbody tr th {\n",
       "        vertical-align: top;\n",
       "    }\n",
       "\n",
       "    .dataframe thead th {\n",
       "        text-align: right;\n",
       "    }\n",
       "</style>\n",
       "<table border=\"1\" class=\"dataframe\">\n",
       "  <thead>\n",
       "    <tr style=\"text-align: right;\">\n",
       "      <th></th>\n",
       "      <th>date</th>\n",
       "      <th>home team</th>\n",
       "      <th>home pts</th>\n",
       "      <th>away team</th>\n",
       "      <th>away pts</th>\n",
       "      <th>winner</th>\n",
       "      <th>home team 41 game win%</th>\n",
       "      <th>home team 8 game win%</th>\n",
       "      <th>away team 41 game win%</th>\n",
       "      <th>away team 8 game win%</th>\n",
       "    </tr>\n",
       "  </thead>\n",
       "  <tbody>\n",
       "    <tr>\n",
       "      <th>0</th>\n",
       "      <td>2016-10-25</td>\n",
       "      <td>CLE</td>\n",
       "      <td>117.0</td>\n",
       "      <td>NYK</td>\n",
       "      <td>88.0</td>\n",
       "      <td>CLE</td>\n",
       "      <td>NaN</td>\n",
       "      <td>NaN</td>\n",
       "      <td>NaN</td>\n",
       "      <td>NaN</td>\n",
       "    </tr>\n",
       "    <tr>\n",
       "      <th>1</th>\n",
       "      <td>2016-10-25</td>\n",
       "      <td>GSW</td>\n",
       "      <td>100.0</td>\n",
       "      <td>SAS</td>\n",
       "      <td>129.0</td>\n",
       "      <td>SAS</td>\n",
       "      <td>NaN</td>\n",
       "      <td>NaN</td>\n",
       "      <td>NaN</td>\n",
       "      <td>NaN</td>\n",
       "    </tr>\n",
       "    <tr>\n",
       "      <th>2</th>\n",
       "      <td>2016-10-25</td>\n",
       "      <td>POR</td>\n",
       "      <td>113.0</td>\n",
       "      <td>UTA</td>\n",
       "      <td>104.0</td>\n",
       "      <td>POR</td>\n",
       "      <td>NaN</td>\n",
       "      <td>NaN</td>\n",
       "      <td>NaN</td>\n",
       "      <td>NaN</td>\n",
       "    </tr>\n",
       "  </tbody>\n",
       "</table>\n",
       "</div>"
      ],
      "text/plain": [
       "         date home team  home pts away team  away pts winner  \\\n",
       "0  2016-10-25       CLE     117.0       NYK      88.0    CLE   \n",
       "1  2016-10-25       GSW     100.0       SAS     129.0    SAS   \n",
       "2  2016-10-25       POR     113.0       UTA     104.0    POR   \n",
       "\n",
       "   home team 41 game win%  home team 8 game win%  away team 41 game win%  \\\n",
       "0                     NaN                    NaN                     NaN   \n",
       "1                     NaN                    NaN                     NaN   \n",
       "2                     NaN                    NaN                     NaN   \n",
       "\n",
       "   away team 8 game win%  \n",
       "0                    NaN  \n",
       "1                    NaN  \n",
       "2                    NaN  "
      ]
     },
     "execution_count": 190,
     "metadata": {},
     "output_type": "execute_result"
    }
   ],
   "source": [
    "scores = scores[['date','home team', 'home pts', 'away team', 'away pts',\n",
    "                 'winner', 'home team 41 game win%', 'home team 8 game win%', \n",
    "                 'away team 41 game win%', 'away team 8 game win%',]]\n",
    "\n",
    "scores.head(3)"
   ]
  },
  {
   "cell_type": "markdown",
   "metadata": {},
   "source": [
    "# 1. Preparing our Model"
   ]
  },
  {
   "cell_type": "markdown",
   "metadata": {},
   "source": [
    "### 1.1 Defining goals, choosing a model"
   ]
  },
  {
   "cell_type": "markdown",
   "metadata": {},
   "source": [
    "Before we can start buildind, we must decide what kind of model we want to use. Therefore, our first question should be what do we want to predict? Ultimately, we want to use our model to simulate the remainder of the regular season. Therefore we want to be able to predict game outcomes with specified probabilities (i.e. Team 1 beats Team 2 wins with probability $p$). \n",
    "\n",
    "One way of doing this is to have our model predict spreads (i.e. Team 1 beats Team 2 by $x$ points). We can then map these spreads into probabilities in a natural way, because with a larger spread it is much more likely that the favorite wins than if the spread is small. \n",
    "\n",
    "In order to predict the spread we'll add a point_diff column to the table that his home team pts - away team pts."
   ]
  },
  {
   "cell_type": "code",
   "execution_count": 191,
   "metadata": {},
   "outputs": [
    {
     "data": {
      "text/html": [
       "<div>\n",
       "<style scoped>\n",
       "    .dataframe tbody tr th:only-of-type {\n",
       "        vertical-align: middle;\n",
       "    }\n",
       "\n",
       "    .dataframe tbody tr th {\n",
       "        vertical-align: top;\n",
       "    }\n",
       "\n",
       "    .dataframe thead th {\n",
       "        text-align: right;\n",
       "    }\n",
       "</style>\n",
       "<table border=\"1\" class=\"dataframe\">\n",
       "  <thead>\n",
       "    <tr style=\"text-align: right;\">\n",
       "      <th></th>\n",
       "      <th>date</th>\n",
       "      <th>home team</th>\n",
       "      <th>home pts</th>\n",
       "      <th>away team</th>\n",
       "      <th>away pts</th>\n",
       "      <th>winner</th>\n",
       "      <th>home team 41 game win%</th>\n",
       "      <th>home team 8 game win%</th>\n",
       "      <th>away team 41 game win%</th>\n",
       "      <th>away team 8 game win%</th>\n",
       "      <th>point_diff</th>\n",
       "    </tr>\n",
       "  </thead>\n",
       "  <tbody>\n",
       "    <tr>\n",
       "      <th>0</th>\n",
       "      <td>2016-10-25</td>\n",
       "      <td>CLE</td>\n",
       "      <td>117.0</td>\n",
       "      <td>NYK</td>\n",
       "      <td>88.0</td>\n",
       "      <td>CLE</td>\n",
       "      <td>NaN</td>\n",
       "      <td>NaN</td>\n",
       "      <td>NaN</td>\n",
       "      <td>NaN</td>\n",
       "      <td>29.0</td>\n",
       "    </tr>\n",
       "    <tr>\n",
       "      <th>1</th>\n",
       "      <td>2016-10-25</td>\n",
       "      <td>GSW</td>\n",
       "      <td>100.0</td>\n",
       "      <td>SAS</td>\n",
       "      <td>129.0</td>\n",
       "      <td>SAS</td>\n",
       "      <td>NaN</td>\n",
       "      <td>NaN</td>\n",
       "      <td>NaN</td>\n",
       "      <td>NaN</td>\n",
       "      <td>-29.0</td>\n",
       "    </tr>\n",
       "    <tr>\n",
       "      <th>2</th>\n",
       "      <td>2016-10-25</td>\n",
       "      <td>POR</td>\n",
       "      <td>113.0</td>\n",
       "      <td>UTA</td>\n",
       "      <td>104.0</td>\n",
       "      <td>POR</td>\n",
       "      <td>NaN</td>\n",
       "      <td>NaN</td>\n",
       "      <td>NaN</td>\n",
       "      <td>NaN</td>\n",
       "      <td>9.0</td>\n",
       "    </tr>\n",
       "    <tr>\n",
       "      <th>3</th>\n",
       "      <td>2016-10-26</td>\n",
       "      <td>BOS</td>\n",
       "      <td>122.0</td>\n",
       "      <td>BKN</td>\n",
       "      <td>117.0</td>\n",
       "      <td>BOS</td>\n",
       "      <td>NaN</td>\n",
       "      <td>NaN</td>\n",
       "      <td>NaN</td>\n",
       "      <td>NaN</td>\n",
       "      <td>5.0</td>\n",
       "    </tr>\n",
       "    <tr>\n",
       "      <th>4</th>\n",
       "      <td>2016-10-26</td>\n",
       "      <td>IND</td>\n",
       "      <td>130.0</td>\n",
       "      <td>DAL</td>\n",
       "      <td>121.0</td>\n",
       "      <td>IND</td>\n",
       "      <td>NaN</td>\n",
       "      <td>NaN</td>\n",
       "      <td>NaN</td>\n",
       "      <td>NaN</td>\n",
       "      <td>9.0</td>\n",
       "    </tr>\n",
       "  </tbody>\n",
       "</table>\n",
       "</div>"
      ],
      "text/plain": [
       "         date home team  home pts away team  away pts winner  \\\n",
       "0  2016-10-25       CLE     117.0       NYK      88.0    CLE   \n",
       "1  2016-10-25       GSW     100.0       SAS     129.0    SAS   \n",
       "2  2016-10-25       POR     113.0       UTA     104.0    POR   \n",
       "3  2016-10-26       BOS     122.0       BKN     117.0    BOS   \n",
       "4  2016-10-26       IND     130.0       DAL     121.0    IND   \n",
       "\n",
       "   home team 41 game win%  home team 8 game win%  away team 41 game win%  \\\n",
       "0                     NaN                    NaN                     NaN   \n",
       "1                     NaN                    NaN                     NaN   \n",
       "2                     NaN                    NaN                     NaN   \n",
       "3                     NaN                    NaN                     NaN   \n",
       "4                     NaN                    NaN                     NaN   \n",
       "\n",
       "   away team 8 game win%  point_diff  \n",
       "0                    NaN        29.0  \n",
       "1                    NaN       -29.0  \n",
       "2                    NaN         9.0  \n",
       "3                    NaN         5.0  \n",
       "4                    NaN         9.0  "
      ]
     },
     "execution_count": 191,
     "metadata": {},
     "output_type": "execute_result"
    }
   ],
   "source": [
    "scores['point_diff'] = scores['home pts']- scores['away pts']\n",
    "scores.head()"
   ]
  },
  {
   "cell_type": "code",
   "execution_count": 192,
   "metadata": {},
   "outputs": [
    {
     "data": {
      "text/plain": [
       "(2257, 11)"
      ]
     },
     "execution_count": 192,
     "metadata": {},
     "output_type": "execute_result"
    }
   ],
   "source": [
    "scores.shape"
   ]
  },
  {
   "cell_type": "markdown",
   "metadata": {},
   "source": [
    "### 1.2 Partitioning Data"
   ]
  },
  {
   "cell_type": "markdown",
   "metadata": {},
   "source": [
    "Before partitioning the data, we must restrict scores to a table that only contains valid records (no NaN values and before March 12th, 2018)."
   ]
  },
  {
   "cell_type": "code",
   "execution_count": 193,
   "metadata": {},
   "outputs": [
    {
     "data": {
      "text/plain": [
       "(2229, 11)"
      ]
     },
     "execution_count": 193,
     "metadata": {},
     "output_type": "execute_result"
    }
   ],
   "source": [
    "valid_scores = scores[scores['date']<'2018-03-12']\n",
    "valid_scores.shape"
   ]
  },
  {
   "cell_type": "code",
   "execution_count": 194,
   "metadata": {},
   "outputs": [
    {
     "name": "stdout",
     "output_type": "stream",
     "text": [
      "(1619, 11)\n"
     ]
    },
    {
     "data": {
      "text/html": [
       "<div>\n",
       "<style scoped>\n",
       "    .dataframe tbody tr th:only-of-type {\n",
       "        vertical-align: middle;\n",
       "    }\n",
       "\n",
       "    .dataframe tbody tr th {\n",
       "        vertical-align: top;\n",
       "    }\n",
       "\n",
       "    .dataframe thead th {\n",
       "        text-align: right;\n",
       "    }\n",
       "</style>\n",
       "<table border=\"1\" class=\"dataframe\">\n",
       "  <thead>\n",
       "    <tr style=\"text-align: right;\">\n",
       "      <th></th>\n",
       "      <th>date</th>\n",
       "      <th>home team</th>\n",
       "      <th>home pts</th>\n",
       "      <th>away team</th>\n",
       "      <th>away pts</th>\n",
       "      <th>winner</th>\n",
       "      <th>home team 41 game win%</th>\n",
       "      <th>home team 8 game win%</th>\n",
       "      <th>away team 41 game win%</th>\n",
       "      <th>away team 8 game win%</th>\n",
       "      <th>point_diff</th>\n",
       "    </tr>\n",
       "  </thead>\n",
       "  <tbody>\n",
       "    <tr>\n",
       "      <th>591</th>\n",
       "      <td>2017-01-13</td>\n",
       "      <td>HOU</td>\n",
       "      <td>105.0</td>\n",
       "      <td>MEM</td>\n",
       "      <td>110.0</td>\n",
       "      <td>MEM</td>\n",
       "      <td>0.756098</td>\n",
       "      <td>0.750</td>\n",
       "      <td>0.585366</td>\n",
       "      <td>0.625</td>\n",
       "      <td>-5.0</td>\n",
       "    </tr>\n",
       "    <tr>\n",
       "      <th>595</th>\n",
       "      <td>2017-01-13</td>\n",
       "      <td>POR</td>\n",
       "      <td>109.0</td>\n",
       "      <td>ORL</td>\n",
       "      <td>115.0</td>\n",
       "      <td>ORL</td>\n",
       "      <td>0.414634</td>\n",
       "      <td>0.500</td>\n",
       "      <td>0.414634</td>\n",
       "      <td>0.250</td>\n",
       "      <td>-6.0</td>\n",
       "    </tr>\n",
       "    <tr>\n",
       "      <th>598</th>\n",
       "      <td>2017-01-13</td>\n",
       "      <td>UTA</td>\n",
       "      <td>110.0</td>\n",
       "      <td>DET</td>\n",
       "      <td>77.0</td>\n",
       "      <td>UTA</td>\n",
       "      <td>0.609756</td>\n",
       "      <td>0.625</td>\n",
       "      <td>0.439024</td>\n",
       "      <td>0.375</td>\n",
       "      <td>33.0</td>\n",
       "    </tr>\n",
       "    <tr>\n",
       "      <th>599</th>\n",
       "      <td>2017-01-14</td>\n",
       "      <td>CHI</td>\n",
       "      <td>107.0</td>\n",
       "      <td>NOP</td>\n",
       "      <td>99.0</td>\n",
       "      <td>CHI</td>\n",
       "      <td>0.487805</td>\n",
       "      <td>0.500</td>\n",
       "      <td>0.390244</td>\n",
       "      <td>0.500</td>\n",
       "      <td>8.0</td>\n",
       "    </tr>\n",
       "    <tr>\n",
       "      <th>600</th>\n",
       "      <td>2017-01-14</td>\n",
       "      <td>LAC</td>\n",
       "      <td>113.0</td>\n",
       "      <td>LAL</td>\n",
       "      <td>97.0</td>\n",
       "      <td>LAC</td>\n",
       "      <td>0.658537</td>\n",
       "      <td>0.750</td>\n",
       "      <td>0.341463</td>\n",
       "      <td>0.375</td>\n",
       "      <td>16.0</td>\n",
       "    </tr>\n",
       "  </tbody>\n",
       "</table>\n",
       "</div>"
      ],
      "text/plain": [
       "           date home team  home pts away team  away pts winner  \\\n",
       "591  2017-01-13       HOU     105.0       MEM     110.0    MEM   \n",
       "595  2017-01-13       POR     109.0       ORL     115.0    ORL   \n",
       "598  2017-01-13       UTA     110.0       DET      77.0    UTA   \n",
       "599  2017-01-14       CHI     107.0       NOP      99.0    CHI   \n",
       "600  2017-01-14       LAC     113.0       LAL      97.0    LAC   \n",
       "\n",
       "     home team 41 game win%  home team 8 game win%  away team 41 game win%  \\\n",
       "591                0.756098                  0.750                0.585366   \n",
       "595                0.414634                  0.500                0.414634   \n",
       "598                0.609756                  0.625                0.439024   \n",
       "599                0.487805                  0.500                0.390244   \n",
       "600                0.658537                  0.750                0.341463   \n",
       "\n",
       "     away team 8 game win%  point_diff  \n",
       "591                  0.625        -5.0  \n",
       "595                  0.250        -6.0  \n",
       "598                  0.375        33.0  \n",
       "599                  0.500         8.0  \n",
       "600                  0.375        16.0  "
      ]
     },
     "execution_count": 194,
     "metadata": {},
     "output_type": "execute_result"
    }
   ],
   "source": [
    "valid_scores = valid_scores[valid_scores['home team 41 game win%'].notnull() & \n",
    "                valid_scores['away team 41 game win%'].notnull()]\n",
    "print(valid_scores.shape)\n",
    "valid_scores.head()"
   ]
  },
  {
   "cell_type": "markdown",
   "metadata": {},
   "source": [
    "We now remove unneccessary columns and convert scores to an array so it is compatible with sklearn."
   ]
  },
  {
   "cell_type": "code",
   "execution_count": 195,
   "metadata": {},
   "outputs": [
    {
     "data": {
      "text/html": [
       "<div>\n",
       "<style scoped>\n",
       "    .dataframe tbody tr th:only-of-type {\n",
       "        vertical-align: middle;\n",
       "    }\n",
       "\n",
       "    .dataframe tbody tr th {\n",
       "        vertical-align: top;\n",
       "    }\n",
       "\n",
       "    .dataframe thead th {\n",
       "        text-align: right;\n",
       "    }\n",
       "</style>\n",
       "<table border=\"1\" class=\"dataframe\">\n",
       "  <thead>\n",
       "    <tr style=\"text-align: right;\">\n",
       "      <th></th>\n",
       "      <th>home team 41 game win%</th>\n",
       "      <th>away team 41 game win%</th>\n",
       "      <th>home team 8 game win%</th>\n",
       "      <th>away team 8 game win%</th>\n",
       "    </tr>\n",
       "  </thead>\n",
       "  <tbody>\n",
       "    <tr>\n",
       "      <th>591</th>\n",
       "      <td>0.756098</td>\n",
       "      <td>0.585366</td>\n",
       "      <td>0.750</td>\n",
       "      <td>0.625</td>\n",
       "    </tr>\n",
       "    <tr>\n",
       "      <th>595</th>\n",
       "      <td>0.414634</td>\n",
       "      <td>0.414634</td>\n",
       "      <td>0.500</td>\n",
       "      <td>0.250</td>\n",
       "    </tr>\n",
       "    <tr>\n",
       "      <th>598</th>\n",
       "      <td>0.609756</td>\n",
       "      <td>0.439024</td>\n",
       "      <td>0.625</td>\n",
       "      <td>0.375</td>\n",
       "    </tr>\n",
       "    <tr>\n",
       "      <th>599</th>\n",
       "      <td>0.487805</td>\n",
       "      <td>0.390244</td>\n",
       "      <td>0.500</td>\n",
       "      <td>0.500</td>\n",
       "    </tr>\n",
       "    <tr>\n",
       "      <th>600</th>\n",
       "      <td>0.658537</td>\n",
       "      <td>0.341463</td>\n",
       "      <td>0.750</td>\n",
       "      <td>0.375</td>\n",
       "    </tr>\n",
       "  </tbody>\n",
       "</table>\n",
       "</div>"
      ],
      "text/plain": [
       "     home team 41 game win%  away team 41 game win%  home team 8 game win%  \\\n",
       "591                0.756098                0.585366                  0.750   \n",
       "595                0.414634                0.414634                  0.500   \n",
       "598                0.609756                0.439024                  0.625   \n",
       "599                0.487805                0.390244                  0.500   \n",
       "600                0.658537                0.341463                  0.750   \n",
       "\n",
       "     away team 8 game win%  \n",
       "591                  0.625  \n",
       "595                  0.250  \n",
       "598                  0.375  \n",
       "599                  0.500  \n",
       "600                  0.375  "
      ]
     },
     "execution_count": 195,
     "metadata": {},
     "output_type": "execute_result"
    }
   ],
   "source": [
    "xs_df = valid_scores[['home team 41 game win%','away team 41 game win%', 'home team 8 game win%',\n",
    "                      'away team 8 game win%']]\n",
    "\n",
    "xs_df.head()"
   ]
  },
  {
   "cell_type": "code",
   "execution_count": 196,
   "metadata": {},
   "outputs": [
    {
     "data": {
      "text/html": [
       "<div>\n",
       "<style scoped>\n",
       "    .dataframe tbody tr th:only-of-type {\n",
       "        vertical-align: middle;\n",
       "    }\n",
       "\n",
       "    .dataframe tbody tr th {\n",
       "        vertical-align: top;\n",
       "    }\n",
       "\n",
       "    .dataframe thead th {\n",
       "        text-align: right;\n",
       "    }\n",
       "</style>\n",
       "<table border=\"1\" class=\"dataframe\">\n",
       "  <thead>\n",
       "    <tr style=\"text-align: right;\">\n",
       "      <th></th>\n",
       "      <th>point_diff</th>\n",
       "    </tr>\n",
       "  </thead>\n",
       "  <tbody>\n",
       "    <tr>\n",
       "      <th>591</th>\n",
       "      <td>-5.0</td>\n",
       "    </tr>\n",
       "    <tr>\n",
       "      <th>595</th>\n",
       "      <td>-6.0</td>\n",
       "    </tr>\n",
       "    <tr>\n",
       "      <th>598</th>\n",
       "      <td>33.0</td>\n",
       "    </tr>\n",
       "    <tr>\n",
       "      <th>599</th>\n",
       "      <td>8.0</td>\n",
       "    </tr>\n",
       "    <tr>\n",
       "      <th>600</th>\n",
       "      <td>16.0</td>\n",
       "    </tr>\n",
       "  </tbody>\n",
       "</table>\n",
       "</div>"
      ],
      "text/plain": [
       "     point_diff\n",
       "591        -5.0\n",
       "595        -6.0\n",
       "598        33.0\n",
       "599         8.0\n",
       "600        16.0"
      ]
     },
     "execution_count": 196,
     "metadata": {},
     "output_type": "execute_result"
    }
   ],
   "source": [
    "ys_df = valid_scores[['point_diff']]\n",
    "ys_df.head()"
   ]
  },
  {
   "cell_type": "code",
   "execution_count": 197,
   "metadata": {},
   "outputs": [],
   "source": [
    "xs = xs_df.as_matrix()\n",
    "ys = ys_df.as_matrix()"
   ]
  },
  {
   "cell_type": "markdown",
   "metadata": {},
   "source": [
    "Finally, we randomly partition our data into training and testing sets using sklearn."
   ]
  },
  {
   "cell_type": "code",
   "execution_count": 198,
   "metadata": {},
   "outputs": [
    {
     "name": "stdout",
     "output_type": "stream",
     "text": [
      "1214 405\n"
     ]
    }
   ],
   "source": [
    "from sklearn.model_selection import train_test_split\n",
    "x_train, x_test, y_train, y_test = train_test_split(xs, ys)\n",
    "y_train = y_train.ravel()\n",
    "y_test = y_test.ravel()\n",
    "print(len(x_train),len(x_test))"
   ]
  },
  {
   "cell_type": "markdown",
   "metadata": {},
   "source": [
    "### 1.3 Feature Scaling"
   ]
  },
  {
   "cell_type": "markdown",
   "metadata": {},
   "source": [
    "Because many machine learning models are sensitive to feature scaling, we rescale our data to values between !!!!!!!!! and !!!!!!!!!!. Note we only fit the scalar to our training set, and then apply the same transformation to our training and testing sets."
   ]
  },
  {
   "cell_type": "code",
   "execution_count": 199,
   "metadata": {},
   "outputs": [],
   "source": [
    "from sklearn.preprocessing import StandardScaler  \n",
    "scaler = StandardScaler() \n",
    "scaler.fit(x_train)  \n",
    "x_train = scaler.transform(x_train)\n",
    "x_test = scaler.transform(x_test)"
   ]
  },
  {
   "cell_type": "code",
   "execution_count": 200,
   "metadata": {},
   "outputs": [
    {
     "data": {
      "text/plain": [
       "array([[ 0.59683418, -1.10581533, -0.60987433, -1.08604674],\n",
       "       [ 1.2708404 ,  1.07513662,  1.69483364,  0.62698151],\n",
       "       [ 1.10233884,  0.23630895, -0.60987433, -0.51503733]])"
      ]
     },
     "execution_count": 200,
     "metadata": {},
     "output_type": "execute_result"
    }
   ],
   "source": [
    "x_train[:3]"
   ]
  },
  {
   "cell_type": "markdown",
   "metadata": {},
   "source": [
    "## 2. Training the Model"
   ]
  },
  {
   "cell_type": "markdown",
   "metadata": {},
   "source": [
    "We are finally ready to train our model!"
   ]
  },
  {
   "cell_type": "code",
   "execution_count": 201,
   "metadata": {},
   "outputs": [
    {
     "data": {
      "text/plain": [
       "LinearRegression(copy_X=True, fit_intercept=True, n_jobs=1, normalize=False)"
      ]
     },
     "execution_count": 201,
     "metadata": {},
     "output_type": "execute_result"
    }
   ],
   "source": [
    "from sklearn.linear_model import LinearRegression\n",
    "lin = LinearRegression()\n",
    "lin.fit(x_train,y_train)"
   ]
  },
  {
   "cell_type": "markdown",
   "metadata": {},
   "source": [
    "## 3. Testing the Model"
   ]
  },
  {
   "cell_type": "code",
   "execution_count": 202,
   "metadata": {},
   "outputs": [
    {
     "data": {
      "text/plain": [
       "array([-22.,  17., -10.,  21.,   5.])"
      ]
     },
     "execution_count": 202,
     "metadata": {},
     "output_type": "execute_result"
    }
   ],
   "source": [
    "y_test[:5]"
   ]
  },
  {
   "cell_type": "code",
   "execution_count": 203,
   "metadata": {},
   "outputs": [
    {
     "data": {
      "text/plain": [
       "array([ -0.06553653,   9.59374577,  -8.94087243,  15.29571352,   8.46912574])"
      ]
     },
     "execution_count": 203,
     "metadata": {},
     "output_type": "execute_result"
    }
   ],
   "source": [
    "lin_pred = lin.predict(x_test)\n",
    "lin_pred[:5]"
   ]
  },
  {
   "cell_type": "code",
   "execution_count": 204,
   "metadata": {},
   "outputs": [
    {
     "data": {
      "text/plain": [
       "8.4978008057462535"
      ]
     },
     "execution_count": 204,
     "metadata": {},
     "output_type": "execute_result"
    }
   ],
   "source": [
    "sklearn.metrics.mean_absolute_error(y_true= y_test,y_pred=lin_pred)"
   ]
  },
  {
   "cell_type": "markdown",
   "metadata": {},
   "source": [
    "It looks like the model is doing okay, on average it gets the spread wrong by around 8.5 points. This seems like a lot, but lets see how it did at just predicting the winner (the sign of the spread)."
   ]
  },
  {
   "cell_type": "code",
   "execution_count": 205,
   "metadata": {},
   "outputs": [
    {
     "data": {
      "text/plain": [
       "0.74567901234567902"
      ]
     },
     "execution_count": 205,
     "metadata": {},
     "output_type": "execute_result"
    }
   ],
   "source": [
    "correct_win = [np.sign(y_test[i])==np.sign(lin_pred[i]) for i in range(len(y_test))]\n",
    "np.mean(correct_win)"
   ]
  },
  {
   "cell_type": "markdown",
   "metadata": {},
   "source": [
    "74% percent accuracy! For reference let's see how we would do if we just picked the team with the better 41 game win percentage (i.e. picking the team with the better record)."
   ]
  },
  {
   "cell_type": "code",
   "execution_count": 206,
   "metadata": {},
   "outputs": [],
   "source": [
    "fav_pred = []\n",
    "for test in x_test:\n",
    "    if test[0] > test[1]:\n",
    "        fav_pred.append(1)\n",
    "    else:\n",
    "        fav_pred.append(-1)"
   ]
  },
  {
   "cell_type": "code",
   "execution_count": 207,
   "metadata": {},
   "outputs": [
    {
     "data": {
      "text/plain": [
       "0.65679012345679011"
      ]
     },
     "execution_count": 207,
     "metadata": {},
     "output_type": "execute_result"
    }
   ],
   "source": [
    "correct_win = [np.sign(y_test[i])==np.sign(fav_pred[i]) for i in range(len(y_test))]\n",
    "np.mean(correct_win)"
   ]
  },
  {
   "cell_type": "markdown",
   "metadata": {},
   "source": [
    "Our model seems to do about 9% better than just guessing the favorite, which isn't bad considering all the factors we are not capturing such as injuries, roster change, rest days, etc. Before beginning simulation, I want to further examine where our model goes wrong."
   ]
  },
  {
   "cell_type": "markdown",
   "metadata": {},
   "source": [
    "## 4. Examing Accuracy"
   ]
  },
  {
   "cell_type": "markdown",
   "metadata": {},
   "source": [
    "First lets plot the distribution of the model's predictions for games it missed."
   ]
  },
  {
   "cell_type": "code",
   "execution_count": 208,
   "metadata": {},
   "outputs": [
    {
     "data": {
      "text/plain": [
       "<matplotlib.legend.Legend at 0x1a1738b9b0>"
      ]
     },
     "execution_count": 208,
     "metadata": {},
     "output_type": "execute_result"
    },
    {
     "data": {
      "image/png": "[encoded data removed]",
      "text/plain": [
       "<matplotlib.figure.Figure at 0x1a1738b978>"
      ]
     },
     "metadata": {},
     "output_type": "display_data"
    }
   ],
   "source": [
    "missed_bools = [np.sign(y_test[i])!=np.sign(lin_pred[i]) for i in range(len(y_test))]\n",
    "missed_gms = lin_pred[missed_bools]\n",
    "\n",
    "correct_bools = [np.sign(y_test[i])==np.sign(lin_pred[i]) for i in range(len(y_test))]\n",
    "correct_gms = lin_pred[correct_bools]\n",
    "\n",
    "fig, ax = plt.subplots(figsize=(10,7))\n",
    "\n",
    "bins= np.linspace(-30,30,num=13)\n",
    "\n",
    "sns.distplot(missed_gms,kde=True,ax=ax,bins=bins,color=\"red\",label=\"Missed Games\")\n",
    "plt.xlabel('Predicted Spread')\n",
    "plt.ylabel('Percent per Unit')\n",
    "ax.legend()"
   ]
  },
  {
   "cell_type": "markdown",
   "metadata": {},
   "source": [
    "As expected, the bulk of the missed games were those the modeled predicted to be close, within $\\pm$ 5 points. Therefore, let's see how accurate our model was conditioned on the absolute value of its predictions."
   ]
  },
  {
   "cell_type": "code",
   "execution_count": 287,
   "metadata": {},
   "outputs": [],
   "source": [
    "def conditioned_accuracy(left,right,inner=True):\n",
    "    # guess_abs = positive integer, the spread we want to condition on\n",
    "    if inner == True:\n",
    "        correct = np.count_nonzero([(abs(pred) <= right and abs(pred)> left) for pred in correct_gms])\n",
    "        missed = np.count_nonzero([(abs(pred) <= right and abs(pred) > left) for pred in missed_gms])\n",
    "        #print('num games: ',correct+missed)\n",
    "        return correct/(correct + missed)\n",
    "    else:\n",
    "        correct = np.count_nonzero([abs(pred) >= right for pred in correct_gms])\n",
    "        missed = np.count_nonzero([abs(pred) >= right for pred in missed_gms])\n",
    "        #print('num games: ',correct+missed)\n",
    "        return correct/(correct + missed)"
   ]
  },
  {
   "cell_type": "code",
   "execution_count": 210,
   "metadata": {},
   "outputs": [
    {
     "name": "stdout",
     "output_type": "stream",
     "text": [
      "accuracy when abs(pred) <= 5\n",
      "num games:  192\n"
     ]
    },
    {
     "data": {
      "text/plain": [
       "0.5885416666666666"
      ]
     },
     "execution_count": 210,
     "metadata": {},
     "output_type": "execute_result"
    }
   ],
   "source": [
    "print('accuracy when abs(pred) <= 5')\n",
    "conditioned_accuracy(0,5)"
   ]
  },
  {
   "cell_type": "code",
   "execution_count": 211,
   "metadata": {},
   "outputs": [
    {
     "name": "stdout",
     "output_type": "stream",
     "text": [
      "accuracy when 5 < abs(pred) <= 10\n",
      "num games:  128\n"
     ]
    },
    {
     "data": {
      "text/plain": [
       "0.828125"
      ]
     },
     "execution_count": 211,
     "metadata": {},
     "output_type": "execute_result"
    }
   ],
   "source": [
    "print('accuracy when 5 < abs(pred) <= 10')\n",
    "conditioned_accuracy(5,10)"
   ]
  },
  {
   "cell_type": "code",
   "execution_count": 212,
   "metadata": {},
   "outputs": [
    {
     "name": "stdout",
     "output_type": "stream",
     "text": [
      "accuracy when abs(pred) > 10\n",
      "num games:  85\n"
     ]
    },
    {
     "data": {
      "text/plain": [
       "0.9764705882352941"
      ]
     },
     "execution_count": 212,
     "metadata": {},
     "output_type": "execute_result"
    }
   ],
   "source": [
    "print('accuracy when abs(pred) > 10')\n",
    "conditioned_accuracy(0,10,inner=False)"
   ]
  },
  {
   "cell_type": "markdown",
   "metadata": {},
   "source": [
    "Excellent, with this we will be able to condition the probability that our predicted team wins based on the predicted spread. This will help us get more accurate simulations since upsets should be more likey in games we predict to be close than in games we predict to be blowouts."
   ]
  },
  {
   "cell_type": "markdown",
   "metadata": {},
   "source": [
    "## 5. Building the Simulator"
   ]
  },
  {
   "cell_type": "markdown",
   "metadata": {},
   "source": [
    "In preparing the simulator, I realized that storing the team's features in a pandas dataframe as before would not be the best approach because of the diffuculty of updating the dataframe as new games are simulated. Instead, all we need to keep track of is each team's last 41 games, specifically their points scored and their opponents points scored, and that all the other features could be easily extracted from this. Therfore I will create a class called \"team\" which stores these features as attributes and makes them easy to update as new games are simulated.\n",
    "\n",
    "If I had more time I would redo that last notebook so that it worked in a similar way, but so it goes."
   ]
  },
  {
   "cell_type": "code",
   "execution_count": 259,
   "metadata": {},
   "outputs": [],
   "source": [
    "def prob_from_pred(pred):\n",
    "    if abs(pred) <= 5:\n",
    "        prob = conditioned_accuracy(0,5)\n",
    "        return [prob, 1-prob]\n",
    "    elif 5 < abs(pred) <= 10:\n",
    "        prob = conditioned_accuracy(5,10)\n",
    "        return [prob, 1-prob]\n",
    "    else:\n",
    "        prob = conditioned_accuracy(0,10,inner=False)\n",
    "        return [prob, 1-prob]"
   ]
  },
  {
   "cell_type": "code",
   "execution_count": 282,
   "metadata": {},
   "outputs": [],
   "source": [
    "class Team(object):\n",
    "    def __init__(self,name):\n",
    "        self.name = name\n",
    "        self.games = []\n",
    "        self.win41 = np.mean(np.count_nonzero([game.winner == self.name for game in self.games]))\n",
    "        self.win8 = np.mean(np.count_nonzero([game.winner == self.name for game in self.games[-8:]]))\n",
    "        self.wins = 0\n",
    "\n",
    "    def add_game(self,game):\n",
    "        self.games = self.games+[game]\n",
    "        if len(self.games) > 41:\n",
    "            self.games = self.games[-41:]\n",
    "        if game.winner == self.name:\n",
    "            self.wins += 1\n",
    "\n",
    "class Game(object):\n",
    "    def __init__(self, date, home_tm, away_tm, winner=None):\n",
    "        self.date = date\n",
    "        self.home_tm = home_tm\n",
    "        self.away_tm = away_tm\n",
    "        self.winner = winner\n",
    "    def play_game():\n",
    "        x = np.array([teams_dict[game.home_tm].win41, teams_dict[game.away_tm].win41,\n",
    "             teams_dict[game.home_tm].win8, teams_dict[game.away_tm].win8]).reshape(1, -1)\n",
    "        pred = lin.predict(x)\n",
    "        probs = prob_from_pred(pred)\n",
    "        win = np.random.choice(a=[1,-1],size=1,p=probs)\n",
    "        if win > 0:\n",
    "            game.winner = game.home_tm\n",
    "        else:\n",
    "            game.winner = game.away_tm"
   ]
  },
  {
   "cell_type": "markdown",
   "metadata": {},
   "source": [
    "### 5.1 Downloading Schedule for Remainder of the Season"
   ]
  },
  {
   "cell_type": "code",
   "execution_count": 215,
   "metadata": {},
   "outputs": [],
   "source": [
    "def clean_bbref_scores(df):\n",
    "    df = df[['Date', 'Visitor/Neutral','PTS','Home/Neutral','PTS.1']]\n",
    "    df.columns = ['date', 'away team', 'away pts', 'home team','home pts']\n",
    "    \n",
    "    return df"
   ]
  },
  {
   "cell_type": "code",
   "execution_count": 216,
   "metadata": {},
   "outputs": [
    {
     "data": {
      "text/html": [
       "<div>\n",
       "<style scoped>\n",
       "    .dataframe tbody tr th:only-of-type {\n",
       "        vertical-align: middle;\n",
       "    }\n",
       "\n",
       "    .dataframe tbody tr th {\n",
       "        vertical-align: top;\n",
       "    }\n",
       "\n",
       "    .dataframe thead th {\n",
       "        text-align: right;\n",
       "    }\n",
       "</style>\n",
       "<table border=\"1\" class=\"dataframe\">\n",
       "  <thead>\n",
       "    <tr style=\"text-align: right;\">\n",
       "      <th></th>\n",
       "      <th>date</th>\n",
       "      <th>away team</th>\n",
       "      <th>away pts</th>\n",
       "      <th>home team</th>\n",
       "      <th>home pts</th>\n",
       "    </tr>\n",
       "  </thead>\n",
       "  <tbody>\n",
       "    <tr>\n",
       "      <th>79</th>\n",
       "      <td>2018-03-12</td>\n",
       "      <td>San Antonio Spurs</td>\n",
       "      <td>93.0</td>\n",
       "      <td>Houston Rockets</td>\n",
       "      <td>109.0</td>\n",
       "    </tr>\n",
       "    <tr>\n",
       "      <th>80</th>\n",
       "      <td>2018-03-12</td>\n",
       "      <td>Milwaukee Bucks</td>\n",
       "      <td>121.0</td>\n",
       "      <td>Memphis Grizzlies</td>\n",
       "      <td>103.0</td>\n",
       "    </tr>\n",
       "    <tr>\n",
       "      <th>81</th>\n",
       "      <td>2018-03-12</td>\n",
       "      <td>Sacramento Kings</td>\n",
       "      <td>101.0</td>\n",
       "      <td>Oklahoma City Thunder</td>\n",
       "      <td>106.0</td>\n",
       "    </tr>\n",
       "    <tr>\n",
       "      <th>82</th>\n",
       "      <td>2018-03-12</td>\n",
       "      <td>Miami Heat</td>\n",
       "      <td>99.0</td>\n",
       "      <td>Portland Trail Blazers</td>\n",
       "      <td>115.0</td>\n",
       "    </tr>\n",
       "    <tr>\n",
       "      <th>83</th>\n",
       "      <td>2018-03-13</td>\n",
       "      <td>Oklahoma City Thunder</td>\n",
       "      <td>119.0</td>\n",
       "      <td>Atlanta Hawks</td>\n",
       "      <td>107.0</td>\n",
       "    </tr>\n",
       "  </tbody>\n",
       "</table>\n",
       "</div>"
      ],
      "text/plain": [
       "         date              away team  away pts               home team  \\\n",
       "79 2018-03-12      San Antonio Spurs      93.0         Houston Rockets   \n",
       "80 2018-03-12        Milwaukee Bucks     121.0       Memphis Grizzlies   \n",
       "81 2018-03-12       Sacramento Kings     101.0   Oklahoma City Thunder   \n",
       "82 2018-03-12             Miami Heat      99.0  Portland Trail Blazers   \n",
       "83 2018-03-13  Oklahoma City Thunder     119.0           Atlanta Hawks   \n",
       "\n",
       "    home pts  \n",
       "79     109.0  \n",
       "80     103.0  \n",
       "81     106.0  \n",
       "82     115.0  \n",
       "83     107.0  "
      ]
     },
     "execution_count": 216,
     "metadata": {},
     "output_type": "execute_result"
    }
   ],
   "source": [
    "import requests\n",
    "months = ['march','april']\n",
    "dfs_2018 = []\n",
    "\n",
    "for month in months:\n",
    "    address = \"https://www.basketball-reference.com/leagues/NBA_2018_games-\"+month+\".html\"\n",
    "    resp = requests.get(address)\n",
    "    df = pd.read_html(resp.content, encoding='utf-8')[0]\n",
    "    df = clean_bbref_scores(df)\n",
    "    dfs_2018.append(df)\n",
    "\n",
    "new_gms = pd.concat(dfs_2018).reset_index(drop=True)\n",
    "new_gms['date'] = pd.to_datetime(new_gms['date'])\n",
    "new_gms = new_gms[new_gms['date']>='2018-3-12']\n",
    "new_gms.head()"
   ]
  },
  {
   "cell_type": "code",
   "execution_count": 217,
   "metadata": {},
   "outputs": [],
   "source": [
    "teams_dict = {'Atlanta Hawks':'ATL', 'Boston Celtics':'BOS', 'Brooklyn Nets':'BKN',\n",
    "             'Charlotte Hornets':'CHA', 'Chicago Bulls':'CHI', 'Cleveland Cavaliers':'CLE',\n",
    "             'Dallas Mavericks':'DAL', 'Denver Nuggets':'DEN', 'Detroit Pistons':'DET',\n",
    "             'Golden State Warriors':'GSW', 'Houston Rockets':'HOU', 'Indiana Pacers':'IND',\n",
    "             'Los Angeles Clippers':'LAC','Los Angeles Lakers':'LAL','Memphis Grizzlies':'MEM',\n",
    "             'Miami Heat':'MIA','Milwaukee Bucks':'MIL', 'Minnesota Timberwolves':'MIN',\n",
    "             'New Orleans Pelicans':'NOP', 'New York Knicks':'NYK', 'Oklahoma City Thunder':'OKC',\n",
    "             'Orlando Magic':'ORL','Philadelphia 76ers':'PHI','Phoenix Suns':'PHX',\n",
    "             'Portland Trail Blazers':'POR','Sacramento Kings':'SAC','San Antonio Spurs':'SAS',\n",
    "             'Toronto Raptors':'TOR','Utah Jazz':'UTA','Washington Wizards':'WAS'}"
   ]
  },
  {
   "cell_type": "code",
   "execution_count": 218,
   "metadata": {},
   "outputs": [
    {
     "data": {
      "text/html": [
       "<div>\n",
       "<style scoped>\n",
       "    .dataframe tbody tr th:only-of-type {\n",
       "        vertical-align: middle;\n",
       "    }\n",
       "\n",
       "    .dataframe tbody tr th {\n",
       "        vertical-align: top;\n",
       "    }\n",
       "\n",
       "    .dataframe thead th {\n",
       "        text-align: right;\n",
       "    }\n",
       "</style>\n",
       "<table border=\"1\" class=\"dataframe\">\n",
       "  <thead>\n",
       "    <tr style=\"text-align: right;\">\n",
       "      <th></th>\n",
       "      <th>date</th>\n",
       "      <th>away team</th>\n",
       "      <th>away pts</th>\n",
       "      <th>home team</th>\n",
       "      <th>home pts</th>\n",
       "    </tr>\n",
       "  </thead>\n",
       "  <tbody>\n",
       "    <tr>\n",
       "      <th>79</th>\n",
       "      <td>2018-03-12</td>\n",
       "      <td>SAS</td>\n",
       "      <td>93.0</td>\n",
       "      <td>HOU</td>\n",
       "      <td>109.0</td>\n",
       "    </tr>\n",
       "    <tr>\n",
       "      <th>80</th>\n",
       "      <td>2018-03-12</td>\n",
       "      <td>MIL</td>\n",
       "      <td>121.0</td>\n",
       "      <td>MEM</td>\n",
       "      <td>103.0</td>\n",
       "    </tr>\n",
       "    <tr>\n",
       "      <th>81</th>\n",
       "      <td>2018-03-12</td>\n",
       "      <td>SAC</td>\n",
       "      <td>101.0</td>\n",
       "      <td>OKC</td>\n",
       "      <td>106.0</td>\n",
       "    </tr>\n",
       "    <tr>\n",
       "      <th>82</th>\n",
       "      <td>2018-03-12</td>\n",
       "      <td>MIA</td>\n",
       "      <td>99.0</td>\n",
       "      <td>POR</td>\n",
       "      <td>115.0</td>\n",
       "    </tr>\n",
       "    <tr>\n",
       "      <th>83</th>\n",
       "      <td>2018-03-13</td>\n",
       "      <td>OKC</td>\n",
       "      <td>119.0</td>\n",
       "      <td>ATL</td>\n",
       "      <td>107.0</td>\n",
       "    </tr>\n",
       "  </tbody>\n",
       "</table>\n",
       "</div>"
      ],
      "text/plain": [
       "         date away team  away pts home team  home pts\n",
       "79 2018-03-12       SAS      93.0       HOU     109.0\n",
       "80 2018-03-12       MIL     121.0       MEM     103.0\n",
       "81 2018-03-12       SAC     101.0       OKC     106.0\n",
       "82 2018-03-12       MIA      99.0       POR     115.0\n",
       "83 2018-03-13       OKC     119.0       ATL     107.0"
      ]
     },
     "execution_count": 218,
     "metadata": {},
     "output_type": "execute_result"
    }
   ],
   "source": [
    "away_tms = new_gms['away team'].tolist()\n",
    "home_tms = new_gms['home team'].tolist()\n",
    "\n",
    "away_short = [teams_dict[away_tm] for away_tm in away_tms]\n",
    "home_short = [teams_dict[home_tm] for home_tm in home_tms]\n",
    "\n",
    "new_gms['away team'] = away_short\n",
    "new_gms['home team'] = home_short\n",
    "\n",
    "new_gms.head()"
   ]
  },
  {
   "cell_type": "markdown",
   "metadata": {},
   "source": [
    "### 5.2 Simulating Remainder of the Season"
   ]
  },
  {
   "cell_type": "markdown",
   "metadata": {},
   "source": [
    "We first initialize the teams by creating a team object for each team and adding a game object to each team for each game they played in the 2017-18 season, before March 12th, 2018. We print out each team's wins as of the morning of March 12th to make sure everything worked correctly."
   ]
  },
  {
   "cell_type": "code",
   "execution_count": 317,
   "metadata": {},
   "outputs": [
    {
     "name": "stdout",
     "output_type": "stream",
     "text": [
      "ATL 20\n",
      "BKN 21\n",
      "BOS 46\n",
      "CHA 29\n",
      "CHI 23\n",
      "CLE 38\n",
      "DAL 21\n",
      "DEN 37\n",
      "DET 30\n",
      "GSW 51\n",
      "HOU 52\n",
      "IND 39\n",
      "LAC 36\n",
      "LAL 30\n",
      "MEM 18\n",
      "MIA 36\n",
      "MIL 35\n",
      "MIN 39\n",
      "NOP 38\n",
      "NYK 24\n",
      "OKC 39\n",
      "ORL 20\n",
      "PHI 36\n",
      "PHX 19\n",
      "POR 40\n",
      "SAC 21\n",
      "SAS 37\n",
      "TOR 49\n",
      "UTA 37\n",
      "WAS 38\n"
     ]
    }
   ],
   "source": [
    "teams = np.unique(valid_scores['home team'])\n",
    "teams_dict = dict.fromkeys(teams)  \n",
    "for team in teams:\n",
    "    teams_dict[team] = Team(name=team)\n",
    "\n",
    "scores_2018 = valid_scores[valid_scores['date']>= '2017-10-17']\n",
    "    \n",
    "games_obj =[]\n",
    "for index, row in scores_2018.iterrows():\n",
    "    g = Game(date=row['date'],home_tm=row['home team'],\n",
    "             away_tm=row['away team'],winner=row['winner'])\n",
    "    games_obj.append(g)\n",
    "for game in games_obj:\n",
    "    home_tm = teams_dict[game.home_tm]\n",
    "    away_tm = teams_dict[game.away_tm]\n",
    "    home_tm.add_game(game)\n",
    "    away_tm.add_game(game)\n",
    "for team in teams:\n",
    "        print(teams_dict[team].name,teams_dict[team].wins)"
   ]
  },
  {
   "cell_type": "markdown",
   "metadata": {},
   "source": [
    "We can now pass these teams along with the remaining schedule of games into the sim_season funciton which simulates the rest of the season. "
   ]
  },
  {
   "cell_type": "code",
   "execution_count": 318,
   "metadata": {},
   "outputs": [],
   "source": [
    "def get_wins(team):\n",
    "    return teams_dict[team].wins"
   ]
  },
  {
   "cell_type": "code",
   "execution_count": 319,
   "metadata": {},
   "outputs": [],
   "source": [
    "def sim_season(teams_dict,new_gms):\n",
    "    # Simulating new games\n",
    "    for index, row in new_gms.iterrows():\n",
    "        game = Game(date=row['date'],home_tm=row['home team'],away_tm=row['away team'])\n",
    "        play_game(teams_dict,game)\n",
    "        teams_dict[game.home_tm].add_game(game)\n",
    "        teams_dict[game.away_tm].add_game(game)\n",
    "    # Determining Western Conference Playoff Teams\n",
    "    west_tms = [team for team in ['DAL','DEN','GSW','HOU','LAC','LAL','MEM',\n",
    "                                              'MIN','NOP','OKC','PHX','POR','SAC','SAS','UTA']]\n",
    "    west_tms = sorted(west_tms,key=get_wins,reverse=True)\n",
    "    playoff_tms = west_tms[:8]\n",
    "    return playoff_tms"
   ]
  },
  {
   "cell_type": "code",
   "execution_count": 321,
   "metadata": {},
   "outputs": [
    {
     "data": {
      "text/plain": [
       "['GSW', 'HOU', 'LAC', 'NOP', 'POR', 'SAS', 'OKC', 'DEN']"
      ]
     },
     "execution_count": 321,
     "metadata": {},
     "output_type": "execute_result"
    }
   ],
   "source": [
    "sim_season(teams_dict,new_gms)"
   ]
  },
  {
   "cell_type": "markdown",
   "metadata": {},
   "source": [
    "Finally we simulate the rest of the season 2000 times and see in what proportion of them the Jazz make the playoffs. This will be our estimate of Utah's chances of making it."
   ]
  },
  {
   "cell_type": "code",
   "execution_count": 324,
   "metadata": {},
   "outputs": [],
   "source": [
    "def sim_n_seasons(teams_dict,new_gms,n):\n",
    "    utah_in = []\n",
    "    for i in range(n):\n",
    "        playoff_tms = sim_season(teams_dict,new_gms)\n",
    "        if 'UTA' in playoff_tms:\n",
    "            utah_in.append(1)\n",
    "        else:\n",
    "            utah_in.append(0)\n",
    "    return np.mean(utah_in)"
   ]
  },
  {
   "cell_type": "code",
   "execution_count": 326,
   "metadata": {},
   "outputs": [
    {
     "data": {
      "text/plain": [
       "1.0"
      ]
     },
     "execution_count": 326,
     "metadata": {},
     "output_type": "execute_result"
    }
   ],
   "source": [
    "sim_n_seasons(teams_dict,new_gms,n=2000)"
   ]
  },
  {
   "cell_type": "markdown",
   "metadata": {},
   "source": [
    "Alright, according to our model, the Utah Jazz have effictively a 100% chance of making the NBA playoffs as of March 12th, 2018! That seems rather high, considering that fivethirtyeight gave the Jazz a 92% chance as of March 12th, but that makes sense when you consider all the factors our model is not capturing that may derail the Jazz's season such as fatigue, injuries, etc."
   ]
  },
  {
   "cell_type": "code",
   "execution_count": null,
   "metadata": {},
   "outputs": [],
   "source": []
  }
 ],
 "metadata": {
  "kernelspec": {
   "display_name": "Python 3",
   "language": "python",
   "name": "python3"
  },
  "language_info": {
   "codemirror_mode": {
    "name": "ipython",
    "version": 3
   },
   "file_extension": ".py",
   "mimetype": "text/x-python",
   "name": "python",
   "nbconvert_exporter": "python",
   "pygments_lexer": "ipython3",
   "version": "3.6.4"
  }
 },
 "nbformat": 4,
 "nbformat_minor": 2
}
